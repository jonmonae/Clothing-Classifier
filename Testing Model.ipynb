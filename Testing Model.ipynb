{
 "cells": [
  {
   "cell_type": "code",
   "execution_count": 33,
   "id": "e952c3a4",
   "metadata": {},
   "outputs": [],
   "source": [
    "import pandas as pd\n",
    "from tensorflow.keras.models import load_model\n",
    "import numpy as np\n",
    "from sklearn.metrics import * \n",
    "from sklearn import preprocessing"
   ]
  },
  {
   "cell_type": "code",
   "execution_count": 5,
   "id": "a66e50cc",
   "metadata": {},
   "outputs": [],
   "source": [
    "model = load_model('clothing-classifier-model.h5')"
   ]
  },
  {
   "cell_type": "code",
   "execution_count": 9,
   "id": "30f529af",
   "metadata": {},
   "outputs": [],
   "source": [
    "label_mapping = {\n",
    "    0: 'T-shirt/top',\n",
    "    1: 'Trouser',\n",
    "    2: 'Pullover',\n",
    "    3: 'Dress',\n",
    "    4: 'Coat',\n",
    "    5: 'Sandal',\n",
    "    6: 'Shirt',\n",
    "    7: 'Sneaker',\n",
    "    8: 'Bag',\n",
    "    9: 'Ankle boot'\n",
    "}"
   ]
  },
  {
   "cell_type": "code",
   "execution_count": 11,
   "id": "bd5fb196",
   "metadata": {},
   "outputs": [],
   "source": [
    "# Get test data\n",
    "test_df = pd.read_csv('fashion-mnist_test.csv')\n",
    "test_df.loc[:, 'label'] = test_df.loc[:, 'label'].map(label_mapping)\n",
    "x_test = test_df.iloc[:,1:]\n",
    "y_test = test_df.loc[:,'label']\n",
    "\n",
    "\n",
    "#Test\n",
    "encoder = preprocessing.OneHotEncoder(sparse_output=False)\n",
    "y_test = encoder.fit_transform(test_df.loc[:,'label'].values.reshape(-1,1)) # OneHot encoding\n",
    "feature_names = [name.split('_', 1)[1] for name in encoder.get_feature_names_out()]\n",
    "\n",
    "x_test/=255 #Normalize\n",
    "y_test = pd.DataFrame(y_test, columns=feature_names)"
   ]
  },
  {
   "cell_type": "code",
   "execution_count": 13,
   "id": "0df51317",
   "metadata": {},
   "outputs": [
    {
     "name": "stdout",
     "output_type": "stream",
     "text": [
      "313/313 [==============================] - 0s 1ms/step\n"
     ]
    }
   ],
   "source": [
    "## Predicting with Model #\n",
    "y_pred_probs = model.predict(x_test)\n",
    "\n",
    "indices = np.argmax(y_pred_probs, axis=1) #Converting probabilities\n",
    "\n",
    "#Creating OneHot-Encoded prediction array\n",
    "y_pred = np.zeros_like(y_test)\n",
    "for i, index in enumerate(indices):\n",
    "    y_pred[i,index] = 1\n",
    "y_pred = pd.DataFrame(y_pred,columns=y_test.columns)"
   ]
  },
  {
   "cell_type": "code",
   "execution_count": 30,
   "id": "3b194ebe",
   "metadata": {},
   "outputs": [],
   "source": [
    "## Metrics ##\n",
    "\n",
    "columns = ['MSE','Accuracy','Precision', 'Recall', 'F1']\n",
    "metrics_list = []\n",
    "\n",
    "for col in y_test.columns:\n",
    "    feat_pred = y_pred.loc[:,col]\n",
    "    feat_test = y_test.loc[:,col]\n",
    "    MSE = mean_squared_error(feat_pred, feat_test)\n",
    "    acc = accuracy_score(feat_pred, feat_test).round(3)\n",
    "    prec = precision_score(feat_pred, feat_test).round(3)\n",
    "    recall = recall_score(feat_pred, feat_test).round(3)\n",
    "    F1 = f1_score(feat_pred,feat_test).round(3)\n",
    "    \n",
    "    metrics_list.append([MSE, acc, prec, recall, F1])\n",
    "    \n",
    "metrics_df = pd.DataFrame(metrics_list, columns=columns, index=y_test.columns)"
   ]
  },
  {
   "cell_type": "code",
   "execution_count": 32,
   "id": "61cc8be6",
   "metadata": {},
   "outputs": [],
   "source": [
    "metrics_df.to_csv('metrics.csv', index=True)"
   ]
  },
  {
   "cell_type": "code",
   "execution_count": null,
   "id": "b3b30666",
   "metadata": {},
   "outputs": [],
   "source": []
  }
 ],
 "metadata": {
  "kernelspec": {
   "display_name": "Python 3 (ipykernel)",
   "language": "python",
   "name": "python3"
  },
  "language_info": {
   "codemirror_mode": {
    "name": "ipython",
    "version": 3
   },
   "file_extension": ".py",
   "mimetype": "text/x-python",
   "name": "python",
   "nbconvert_exporter": "python",
   "pygments_lexer": "ipython3",
   "version": "3.10.9"
  }
 },
 "nbformat": 4,
 "nbformat_minor": 5
}
